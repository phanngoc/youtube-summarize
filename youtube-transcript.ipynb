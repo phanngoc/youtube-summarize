{
 "cells": [
  {
   "cell_type": "code",
   "execution_count": 1,
   "metadata": {},
   "outputs": [
    {
     "name": "stdout",
     "output_type": "stream",
     "text": [
      "Requirement already satisfied: youtube-transcript-api in /Users/ngocp/.pyenv/versions/3.10.3/lib/python3.10/site-packages (0.6.2)\n",
      "Requirement already satisfied: requests in /Users/ngocp/.pyenv/versions/3.10.3/lib/python3.10/site-packages (from youtube-transcript-api) (2.31.0)\n",
      "Requirement already satisfied: charset-normalizer<4,>=2 in /Users/ngocp/.pyenv/versions/3.10.3/lib/python3.10/site-packages (from requests->youtube-transcript-api) (3.0.1)\n",
      "Requirement already satisfied: idna<4,>=2.5 in /Users/ngocp/.pyenv/versions/3.10.3/lib/python3.10/site-packages (from requests->youtube-transcript-api) (3.4)\n",
      "Requirement already satisfied: urllib3<3,>=1.21.1 in /Users/ngocp/.pyenv/versions/3.10.3/lib/python3.10/site-packages (from requests->youtube-transcript-api) (1.26.14)\n",
      "Requirement already satisfied: certifi>=2017.4.17 in /Users/ngocp/.pyenv/versions/3.10.3/lib/python3.10/site-packages (from requests->youtube-transcript-api) (2022.12.7)\n",
      "\u001b[33mWARNING: Error parsing dependencies of textract: .* suffix can only be used with `==` or `!=` operators\n",
      "    extract-msg (<=0.29.*)\n",
      "                 ~~~~~~~^\u001b[0m\u001b[33m\n",
      "\u001b[0mRequirement already satisfied: llama-index in /Users/ngocp/.pyenv/versions/3.10.3/lib/python3.10/site-packages (0.10.59)\n",
      "Requirement already satisfied: llama-index-agent-openai<0.3.0,>=0.1.4 in /Users/ngocp/.pyenv/versions/3.10.3/lib/python3.10/site-packages (from llama-index) (0.2.9)\n",
      "Requirement already satisfied: llama-index-cli<0.2.0,>=0.1.2 in /Users/ngocp/.pyenv/versions/3.10.3/lib/python3.10/site-packages (from llama-index) (0.1.13)\n",
      "Requirement already satisfied: llama-index-core==0.10.59 in /Users/ngocp/.pyenv/versions/3.10.3/lib/python3.10/site-packages (from llama-index) (0.10.59)\n",
      "Requirement already satisfied: llama-index-embeddings-openai<0.2.0,>=0.1.5 in /Users/ngocp/.pyenv/versions/3.10.3/lib/python3.10/site-packages (from llama-index) (0.1.11)\n",
      "Requirement already satisfied: llama-index-indices-managed-llama-cloud>=0.2.0 in /Users/ngocp/.pyenv/versions/3.10.3/lib/python3.10/site-packages (from llama-index) (0.2.7)\n",
      "Requirement already satisfied: llama-index-legacy<0.10.0,>=0.9.48 in /Users/ngocp/.pyenv/versions/3.10.3/lib/python3.10/site-packages (from llama-index) (0.9.48)\n",
      "Requirement already satisfied: llama-index-llms-openai<0.2.0,>=0.1.27 in /Users/ngocp/.pyenv/versions/3.10.3/lib/python3.10/site-packages (from llama-index) (0.1.27)\n",
      "Requirement already satisfied: llama-index-multi-modal-llms-openai<0.2.0,>=0.1.3 in /Users/ngocp/.pyenv/versions/3.10.3/lib/python3.10/site-packages (from llama-index) (0.1.8)\n",
      "Requirement already satisfied: llama-index-program-openai<0.2.0,>=0.1.3 in /Users/ngocp/.pyenv/versions/3.10.3/lib/python3.10/site-packages (from llama-index) (0.1.7)\n",
      "Requirement already satisfied: llama-index-question-gen-openai<0.2.0,>=0.1.2 in /Users/ngocp/.pyenv/versions/3.10.3/lib/python3.10/site-packages (from llama-index) (0.1.3)\n",
      "Requirement already satisfied: llama-index-readers-file<0.2.0,>=0.1.4 in /Users/ngocp/.pyenv/versions/3.10.3/lib/python3.10/site-packages (from llama-index) (0.1.32)\n",
      "Requirement already satisfied: llama-index-readers-llama-parse>=0.1.2 in /Users/ngocp/.pyenv/versions/3.10.3/lib/python3.10/site-packages (from llama-index) (0.1.6)\n",
      "Requirement already satisfied: PyYAML>=6.0.1 in /Users/ngocp/.pyenv/versions/3.10.3/lib/python3.10/site-packages (from llama-index-core==0.10.59->llama-index) (6.0.1)\n",
      "Requirement already satisfied: SQLAlchemy>=1.4.49 in /Users/ngocp/.pyenv/versions/3.10.3/lib/python3.10/site-packages (from SQLAlchemy[asyncio]>=1.4.49->llama-index-core==0.10.59->llama-index) (2.0.32)\n",
      "Requirement already satisfied: aiohttp<4.0.0,>=3.8.6 in /Users/ngocp/.pyenv/versions/3.10.3/lib/python3.10/site-packages (from llama-index-core==0.10.59->llama-index) (3.10.0)\n",
      "Requirement already satisfied: dataclasses-json in /Users/ngocp/.pyenv/versions/3.10.3/lib/python3.10/site-packages (from llama-index-core==0.10.59->llama-index) (0.6.7)\n",
      "Requirement already satisfied: deprecated>=1.2.9.3 in /Users/ngocp/.pyenv/versions/3.10.3/lib/python3.10/site-packages (from llama-index-core==0.10.59->llama-index) (1.2.14)\n",
      "Requirement already satisfied: dirtyjson<2.0.0,>=1.0.8 in /Users/ngocp/.pyenv/versions/3.10.3/lib/python3.10/site-packages (from llama-index-core==0.10.59->llama-index) (1.0.8)\n",
      "Requirement already satisfied: fsspec>=2023.5.0 in /Users/ngocp/.pyenv/versions/3.10.3/lib/python3.10/site-packages (from llama-index-core==0.10.59->llama-index) (2023.6.0)\n",
      "Requirement already satisfied: httpx in /Users/ngocp/.pyenv/versions/3.10.3/lib/python3.10/site-packages (from llama-index-core==0.10.59->llama-index) (0.25.2)\n",
      "Requirement already satisfied: nest-asyncio<2.0.0,>=1.5.8 in /Users/ngocp/.pyenv/versions/3.10.3/lib/python3.10/site-packages (from llama-index-core==0.10.59->llama-index) (1.6.0)\n",
      "Requirement already satisfied: networkx>=3.0 in /Users/ngocp/.pyenv/versions/3.10.3/lib/python3.10/site-packages (from llama-index-core==0.10.59->llama-index) (3.3)\n",
      "Requirement already satisfied: nltk<4.0.0,>=3.8.1 in /Users/ngocp/.pyenv/versions/3.10.3/lib/python3.10/site-packages (from llama-index-core==0.10.59->llama-index) (3.8.1)\n",
      "Requirement already satisfied: numpy<2.0.0 in /Users/ngocp/.pyenv/versions/3.10.3/lib/python3.10/site-packages (from llama-index-core==0.10.59->llama-index) (1.26.4)\n",
      "Requirement already satisfied: openai>=1.1.0 in /Users/ngocp/.pyenv/versions/3.10.3/lib/python3.10/site-packages (from llama-index-core==0.10.59->llama-index) (1.37.1)\n",
      "Requirement already satisfied: pandas in /Users/ngocp/.pyenv/versions/3.10.3/lib/python3.10/site-packages (from llama-index-core==0.10.59->llama-index) (1.5.3)\n",
      "Requirement already satisfied: pillow>=9.0.0 in /Users/ngocp/.pyenv/versions/3.10.3/lib/python3.10/site-packages (from llama-index-core==0.10.59->llama-index) (9.4.0)\n",
      "Requirement already satisfied: requests>=2.31.0 in /Users/ngocp/.pyenv/versions/3.10.3/lib/python3.10/site-packages (from llama-index-core==0.10.59->llama-index) (2.31.0)\n",
      "Requirement already satisfied: tenacity!=8.4.0,<9.0.0,>=8.2.0 in /Users/ngocp/.pyenv/versions/3.10.3/lib/python3.10/site-packages (from llama-index-core==0.10.59->llama-index) (8.2.2)\n",
      "Requirement already satisfied: tiktoken>=0.3.3 in /Users/ngocp/.pyenv/versions/3.10.3/lib/python3.10/site-packages (from llama-index-core==0.10.59->llama-index) (0.4.0)\n",
      "Requirement already satisfied: tqdm<5.0.0,>=4.66.1 in /Users/ngocp/.pyenv/versions/3.10.3/lib/python3.10/site-packages (from llama-index-core==0.10.59->llama-index) (4.66.4)\n",
      "Requirement already satisfied: typing-extensions>=4.5.0 in /Users/ngocp/.pyenv/versions/3.10.3/lib/python3.10/site-packages (from llama-index-core==0.10.59->llama-index) (4.12.2)\n",
      "Requirement already satisfied: typing-inspect>=0.8.0 in /Users/ngocp/.pyenv/versions/3.10.3/lib/python3.10/site-packages (from llama-index-core==0.10.59->llama-index) (0.9.0)\n",
      "Requirement already satisfied: wrapt in /Users/ngocp/.pyenv/versions/3.10.3/lib/python3.10/site-packages (from llama-index-core==0.10.59->llama-index) (1.14.1)\n",
      "Requirement already satisfied: llama-cloud>=0.0.11 in /Users/ngocp/.pyenv/versions/3.10.3/lib/python3.10/site-packages (from llama-index-indices-managed-llama-cloud>=0.2.0->llama-index) (0.0.11)\n",
      "Requirement already satisfied: beautifulsoup4<5.0.0,>=4.12.3 in /Users/ngocp/.pyenv/versions/3.10.3/lib/python3.10/site-packages (from llama-index-readers-file<0.2.0,>=0.1.4->llama-index) (4.12.3)\n",
      "Requirement already satisfied: pypdf<5.0.0,>=4.0.1 in /Users/ngocp/.pyenv/versions/3.10.3/lib/python3.10/site-packages (from llama-index-readers-file<0.2.0,>=0.1.4->llama-index) (4.3.1)\n",
      "Requirement already satisfied: striprtf<0.0.27,>=0.0.26 in /Users/ngocp/.pyenv/versions/3.10.3/lib/python3.10/site-packages (from llama-index-readers-file<0.2.0,>=0.1.4->llama-index) (0.0.26)\n",
      "Requirement already satisfied: llama-parse>=0.4.0 in /Users/ngocp/.pyenv/versions/3.10.3/lib/python3.10/site-packages (from llama-index-readers-llama-parse>=0.1.2->llama-index) (0.4.9)\n",
      "Requirement already satisfied: aiohappyeyeballs>=2.3.0 in /Users/ngocp/.pyenv/versions/3.10.3/lib/python3.10/site-packages (from aiohttp<4.0.0,>=3.8.6->llama-index-core==0.10.59->llama-index) (2.3.4)\n",
      "Requirement already satisfied: aiosignal>=1.1.2 in /Users/ngocp/.pyenv/versions/3.10.3/lib/python3.10/site-packages (from aiohttp<4.0.0,>=3.8.6->llama-index-core==0.10.59->llama-index) (1.3.1)\n",
      "Requirement already satisfied: attrs>=17.3.0 in /Users/ngocp/.pyenv/versions/3.10.3/lib/python3.10/site-packages (from aiohttp<4.0.0,>=3.8.6->llama-index-core==0.10.59->llama-index) (22.2.0)\n",
      "Requirement already satisfied: frozenlist>=1.1.1 in /Users/ngocp/.pyenv/versions/3.10.3/lib/python3.10/site-packages (from aiohttp<4.0.0,>=3.8.6->llama-index-core==0.10.59->llama-index) (1.3.3)\n",
      "Requirement already satisfied: multidict<7.0,>=4.5 in /Users/ngocp/.pyenv/versions/3.10.3/lib/python3.10/site-packages (from aiohttp<4.0.0,>=3.8.6->llama-index-core==0.10.59->llama-index) (6.0.4)\n",
      "Requirement already satisfied: yarl<2.0,>=1.0 in /Users/ngocp/.pyenv/versions/3.10.3/lib/python3.10/site-packages (from aiohttp<4.0.0,>=3.8.6->llama-index-core==0.10.59->llama-index) (1.8.2)\n",
      "Requirement already satisfied: async-timeout<5.0,>=4.0 in /Users/ngocp/.pyenv/versions/3.10.3/lib/python3.10/site-packages (from aiohttp<4.0.0,>=3.8.6->llama-index-core==0.10.59->llama-index) (4.0.2)\n",
      "Requirement already satisfied: soupsieve>1.2 in /Users/ngocp/.pyenv/versions/3.10.3/lib/python3.10/site-packages (from beautifulsoup4<5.0.0,>=4.12.3->llama-index-readers-file<0.2.0,>=0.1.4->llama-index) (2.4)\n",
      "Requirement already satisfied: pydantic>=1.10 in /Users/ngocp/.pyenv/versions/3.10.3/lib/python3.10/site-packages (from llama-cloud>=0.0.11->llama-index-indices-managed-llama-cloud>=0.2.0->llama-index) (1.10.15)\n",
      "Requirement already satisfied: anyio in /Users/ngocp/.pyenv/versions/3.10.3/lib/python3.10/site-packages (from httpx->llama-index-core==0.10.59->llama-index) (3.6.2)\n",
      "Requirement already satisfied: certifi in /Users/ngocp/.pyenv/versions/3.10.3/lib/python3.10/site-packages (from httpx->llama-index-core==0.10.59->llama-index) (2022.12.7)\n",
      "Requirement already satisfied: httpcore==1.* in /Users/ngocp/.pyenv/versions/3.10.3/lib/python3.10/site-packages (from httpx->llama-index-core==0.10.59->llama-index) (1.0.2)\n",
      "Requirement already satisfied: idna in /Users/ngocp/.pyenv/versions/3.10.3/lib/python3.10/site-packages (from httpx->llama-index-core==0.10.59->llama-index) (3.4)\n",
      "Requirement already satisfied: sniffio in /Users/ngocp/.pyenv/versions/3.10.3/lib/python3.10/site-packages (from httpx->llama-index-core==0.10.59->llama-index) (1.3.0)\n",
      "Requirement already satisfied: h11<0.15,>=0.13 in /Users/ngocp/.pyenv/versions/3.10.3/lib/python3.10/site-packages (from httpcore==1.*->httpx->llama-index-core==0.10.59->llama-index) (0.14.0)\n",
      "Requirement already satisfied: click in /Users/ngocp/.pyenv/versions/3.10.3/lib/python3.10/site-packages (from nltk<4.0.0,>=3.8.1->llama-index-core==0.10.59->llama-index) (8.1.7)\n",
      "Requirement already satisfied: joblib in /Users/ngocp/.pyenv/versions/3.10.3/lib/python3.10/site-packages (from nltk<4.0.0,>=3.8.1->llama-index-core==0.10.59->llama-index) (1.2.0)\n",
      "Requirement already satisfied: regex>=2021.8.3 in /Users/ngocp/.pyenv/versions/3.10.3/lib/python3.10/site-packages (from nltk<4.0.0,>=3.8.1->llama-index-core==0.10.59->llama-index) (2022.10.31)\n",
      "Requirement already satisfied: distro<2,>=1.7.0 in /Users/ngocp/.pyenv/versions/3.10.3/lib/python3.10/site-packages (from openai>=1.1.0->llama-index-core==0.10.59->llama-index) (1.8.0)\n",
      "Requirement already satisfied: charset-normalizer<4,>=2 in /Users/ngocp/.pyenv/versions/3.10.3/lib/python3.10/site-packages (from requests>=2.31.0->llama-index-core==0.10.59->llama-index) (3.0.1)\n",
      "Requirement already satisfied: urllib3<3,>=1.21.1 in /Users/ngocp/.pyenv/versions/3.10.3/lib/python3.10/site-packages (from requests>=2.31.0->llama-index-core==0.10.59->llama-index) (1.26.14)\n",
      "Requirement already satisfied: greenlet!=0.4.17 in /Users/ngocp/.pyenv/versions/3.10.3/lib/python3.10/site-packages (from SQLAlchemy[asyncio]>=1.4.49->llama-index-core==0.10.59->llama-index) (3.0.3)\n",
      "Requirement already satisfied: mypy-extensions>=0.3.0 in /Users/ngocp/.pyenv/versions/3.10.3/lib/python3.10/site-packages (from typing-inspect>=0.8.0->llama-index-core==0.10.59->llama-index) (1.0.0)\n",
      "Requirement already satisfied: marshmallow<4.0.0,>=3.18.0 in /Users/ngocp/.pyenv/versions/3.10.3/lib/python3.10/site-packages (from dataclasses-json->llama-index-core==0.10.59->llama-index) (3.21.3)\n",
      "Requirement already satisfied: python-dateutil>=2.8.1 in /Users/ngocp/.pyenv/versions/3.10.3/lib/python3.10/site-packages (from pandas->llama-index-core==0.10.59->llama-index) (2.8.2)\n",
      "Requirement already satisfied: pytz>=2020.1 in /Users/ngocp/.pyenv/versions/3.10.3/lib/python3.10/site-packages (from pandas->llama-index-core==0.10.59->llama-index) (2022.7.1)\n",
      "Requirement already satisfied: packaging>=17.0 in /Users/ngocp/.pyenv/versions/3.10.3/lib/python3.10/site-packages (from marshmallow<4.0.0,>=3.18.0->dataclasses-json->llama-index-core==0.10.59->llama-index) (24.1)\n",
      "Requirement already satisfied: six>=1.5 in /Users/ngocp/.pyenv/versions/3.10.3/lib/python3.10/site-packages (from python-dateutil>=2.8.1->pandas->llama-index-core==0.10.59->llama-index) (1.16.0)\n",
      "\u001b[33mWARNING: Error parsing dependencies of textract: .* suffix can only be used with `==` or `!=` operators\n",
      "    extract-msg (<=0.29.*)\n",
      "                 ~~~~~~~^\u001b[0m\u001b[33m\n",
      "\u001b[0mRequirement already satisfied: llama-index-embeddings-openai in /Users/ngocp/.pyenv/versions/3.10.3/lib/python3.10/site-packages (0.1.11)\n",
      "Requirement already satisfied: llama-index-core<0.11.0,>=0.10.1 in /Users/ngocp/.pyenv/versions/3.10.3/lib/python3.10/site-packages (from llama-index-embeddings-openai) (0.10.59)\n",
      "Requirement already satisfied: PyYAML>=6.0.1 in /Users/ngocp/.pyenv/versions/3.10.3/lib/python3.10/site-packages (from llama-index-core<0.11.0,>=0.10.1->llama-index-embeddings-openai) (6.0.1)\n",
      "Requirement already satisfied: SQLAlchemy>=1.4.49 in /Users/ngocp/.pyenv/versions/3.10.3/lib/python3.10/site-packages (from SQLAlchemy[asyncio]>=1.4.49->llama-index-core<0.11.0,>=0.10.1->llama-index-embeddings-openai) (2.0.32)\n",
      "Requirement already satisfied: aiohttp<4.0.0,>=3.8.6 in /Users/ngocp/.pyenv/versions/3.10.3/lib/python3.10/site-packages (from llama-index-core<0.11.0,>=0.10.1->llama-index-embeddings-openai) (3.10.0)\n",
      "Requirement already satisfied: dataclasses-json in /Users/ngocp/.pyenv/versions/3.10.3/lib/python3.10/site-packages (from llama-index-core<0.11.0,>=0.10.1->llama-index-embeddings-openai) (0.6.7)\n",
      "Requirement already satisfied: deprecated>=1.2.9.3 in /Users/ngocp/.pyenv/versions/3.10.3/lib/python3.10/site-packages (from llama-index-core<0.11.0,>=0.10.1->llama-index-embeddings-openai) (1.2.14)\n",
      "Requirement already satisfied: dirtyjson<2.0.0,>=1.0.8 in /Users/ngocp/.pyenv/versions/3.10.3/lib/python3.10/site-packages (from llama-index-core<0.11.0,>=0.10.1->llama-index-embeddings-openai) (1.0.8)\n",
      "Requirement already satisfied: fsspec>=2023.5.0 in /Users/ngocp/.pyenv/versions/3.10.3/lib/python3.10/site-packages (from llama-index-core<0.11.0,>=0.10.1->llama-index-embeddings-openai) (2023.6.0)\n",
      "Requirement already satisfied: httpx in /Users/ngocp/.pyenv/versions/3.10.3/lib/python3.10/site-packages (from llama-index-core<0.11.0,>=0.10.1->llama-index-embeddings-openai) (0.25.2)\n",
      "Requirement already satisfied: nest-asyncio<2.0.0,>=1.5.8 in /Users/ngocp/.pyenv/versions/3.10.3/lib/python3.10/site-packages (from llama-index-core<0.11.0,>=0.10.1->llama-index-embeddings-openai) (1.6.0)\n",
      "Requirement already satisfied: networkx>=3.0 in /Users/ngocp/.pyenv/versions/3.10.3/lib/python3.10/site-packages (from llama-index-core<0.11.0,>=0.10.1->llama-index-embeddings-openai) (3.3)\n",
      "Requirement already satisfied: nltk<4.0.0,>=3.8.1 in /Users/ngocp/.pyenv/versions/3.10.3/lib/python3.10/site-packages (from llama-index-core<0.11.0,>=0.10.1->llama-index-embeddings-openai) (3.8.1)\n",
      "Requirement already satisfied: numpy<2.0.0 in /Users/ngocp/.pyenv/versions/3.10.3/lib/python3.10/site-packages (from llama-index-core<0.11.0,>=0.10.1->llama-index-embeddings-openai) (1.26.4)\n",
      "Requirement already satisfied: openai>=1.1.0 in /Users/ngocp/.pyenv/versions/3.10.3/lib/python3.10/site-packages (from llama-index-core<0.11.0,>=0.10.1->llama-index-embeddings-openai) (1.37.1)\n",
      "Requirement already satisfied: pandas in /Users/ngocp/.pyenv/versions/3.10.3/lib/python3.10/site-packages (from llama-index-core<0.11.0,>=0.10.1->llama-index-embeddings-openai) (1.5.3)\n",
      "Requirement already satisfied: pillow>=9.0.0 in /Users/ngocp/.pyenv/versions/3.10.3/lib/python3.10/site-packages (from llama-index-core<0.11.0,>=0.10.1->llama-index-embeddings-openai) (9.4.0)\n",
      "Requirement already satisfied: requests>=2.31.0 in /Users/ngocp/.pyenv/versions/3.10.3/lib/python3.10/site-packages (from llama-index-core<0.11.0,>=0.10.1->llama-index-embeddings-openai) (2.31.0)\n",
      "Requirement already satisfied: tenacity!=8.4.0,<9.0.0,>=8.2.0 in /Users/ngocp/.pyenv/versions/3.10.3/lib/python3.10/site-packages (from llama-index-core<0.11.0,>=0.10.1->llama-index-embeddings-openai) (8.2.2)\n",
      "Requirement already satisfied: tiktoken>=0.3.3 in /Users/ngocp/.pyenv/versions/3.10.3/lib/python3.10/site-packages (from llama-index-core<0.11.0,>=0.10.1->llama-index-embeddings-openai) (0.4.0)\n",
      "Requirement already satisfied: tqdm<5.0.0,>=4.66.1 in /Users/ngocp/.pyenv/versions/3.10.3/lib/python3.10/site-packages (from llama-index-core<0.11.0,>=0.10.1->llama-index-embeddings-openai) (4.66.4)\n",
      "Requirement already satisfied: typing-extensions>=4.5.0 in /Users/ngocp/.pyenv/versions/3.10.3/lib/python3.10/site-packages (from llama-index-core<0.11.0,>=0.10.1->llama-index-embeddings-openai) (4.12.2)\n",
      "Requirement already satisfied: typing-inspect>=0.8.0 in /Users/ngocp/.pyenv/versions/3.10.3/lib/python3.10/site-packages (from llama-index-core<0.11.0,>=0.10.1->llama-index-embeddings-openai) (0.9.0)\n",
      "Requirement already satisfied: wrapt in /Users/ngocp/.pyenv/versions/3.10.3/lib/python3.10/site-packages (from llama-index-core<0.11.0,>=0.10.1->llama-index-embeddings-openai) (1.14.1)\n",
      "Requirement already satisfied: aiohappyeyeballs>=2.3.0 in /Users/ngocp/.pyenv/versions/3.10.3/lib/python3.10/site-packages (from aiohttp<4.0.0,>=3.8.6->llama-index-core<0.11.0,>=0.10.1->llama-index-embeddings-openai) (2.3.4)\n",
      "Requirement already satisfied: aiosignal>=1.1.2 in /Users/ngocp/.pyenv/versions/3.10.3/lib/python3.10/site-packages (from aiohttp<4.0.0,>=3.8.6->llama-index-core<0.11.0,>=0.10.1->llama-index-embeddings-openai) (1.3.1)\n",
      "Requirement already satisfied: attrs>=17.3.0 in /Users/ngocp/.pyenv/versions/3.10.3/lib/python3.10/site-packages (from aiohttp<4.0.0,>=3.8.6->llama-index-core<0.11.0,>=0.10.1->llama-index-embeddings-openai) (22.2.0)\n",
      "Requirement already satisfied: frozenlist>=1.1.1 in /Users/ngocp/.pyenv/versions/3.10.3/lib/python3.10/site-packages (from aiohttp<4.0.0,>=3.8.6->llama-index-core<0.11.0,>=0.10.1->llama-index-embeddings-openai) (1.3.3)\n",
      "Requirement already satisfied: multidict<7.0,>=4.5 in /Users/ngocp/.pyenv/versions/3.10.3/lib/python3.10/site-packages (from aiohttp<4.0.0,>=3.8.6->llama-index-core<0.11.0,>=0.10.1->llama-index-embeddings-openai) (6.0.4)\n",
      "Requirement already satisfied: yarl<2.0,>=1.0 in /Users/ngocp/.pyenv/versions/3.10.3/lib/python3.10/site-packages (from aiohttp<4.0.0,>=3.8.6->llama-index-core<0.11.0,>=0.10.1->llama-index-embeddings-openai) (1.8.2)\n",
      "Requirement already satisfied: async-timeout<5.0,>=4.0 in /Users/ngocp/.pyenv/versions/3.10.3/lib/python3.10/site-packages (from aiohttp<4.0.0,>=3.8.6->llama-index-core<0.11.0,>=0.10.1->llama-index-embeddings-openai) (4.0.2)\n",
      "Requirement already satisfied: click in /Users/ngocp/.pyenv/versions/3.10.3/lib/python3.10/site-packages (from nltk<4.0.0,>=3.8.1->llama-index-core<0.11.0,>=0.10.1->llama-index-embeddings-openai) (8.1.7)\n",
      "Requirement already satisfied: joblib in /Users/ngocp/.pyenv/versions/3.10.3/lib/python3.10/site-packages (from nltk<4.0.0,>=3.8.1->llama-index-core<0.11.0,>=0.10.1->llama-index-embeddings-openai) (1.2.0)\n",
      "Requirement already satisfied: regex>=2021.8.3 in /Users/ngocp/.pyenv/versions/3.10.3/lib/python3.10/site-packages (from nltk<4.0.0,>=3.8.1->llama-index-core<0.11.0,>=0.10.1->llama-index-embeddings-openai) (2022.10.31)\n",
      "Requirement already satisfied: anyio<5,>=3.5.0 in /Users/ngocp/.pyenv/versions/3.10.3/lib/python3.10/site-packages (from openai>=1.1.0->llama-index-core<0.11.0,>=0.10.1->llama-index-embeddings-openai) (3.6.2)\n",
      "Requirement already satisfied: distro<2,>=1.7.0 in /Users/ngocp/.pyenv/versions/3.10.3/lib/python3.10/site-packages (from openai>=1.1.0->llama-index-core<0.11.0,>=0.10.1->llama-index-embeddings-openai) (1.8.0)\n",
      "Requirement already satisfied: pydantic<3,>=1.9.0 in /Users/ngocp/.pyenv/versions/3.10.3/lib/python3.10/site-packages (from openai>=1.1.0->llama-index-core<0.11.0,>=0.10.1->llama-index-embeddings-openai) (1.10.15)\n",
      "Requirement already satisfied: sniffio in /Users/ngocp/.pyenv/versions/3.10.3/lib/python3.10/site-packages (from openai>=1.1.0->llama-index-core<0.11.0,>=0.10.1->llama-index-embeddings-openai) (1.3.0)\n",
      "Requirement already satisfied: certifi in /Users/ngocp/.pyenv/versions/3.10.3/lib/python3.10/site-packages (from httpx->llama-index-core<0.11.0,>=0.10.1->llama-index-embeddings-openai) (2022.12.7)\n",
      "Requirement already satisfied: httpcore==1.* in /Users/ngocp/.pyenv/versions/3.10.3/lib/python3.10/site-packages (from httpx->llama-index-core<0.11.0,>=0.10.1->llama-index-embeddings-openai) (1.0.2)\n",
      "Requirement already satisfied: idna in /Users/ngocp/.pyenv/versions/3.10.3/lib/python3.10/site-packages (from httpx->llama-index-core<0.11.0,>=0.10.1->llama-index-embeddings-openai) (3.4)\n",
      "Requirement already satisfied: h11<0.15,>=0.13 in /Users/ngocp/.pyenv/versions/3.10.3/lib/python3.10/site-packages (from httpcore==1.*->httpx->llama-index-core<0.11.0,>=0.10.1->llama-index-embeddings-openai) (0.14.0)\n",
      "Requirement already satisfied: charset-normalizer<4,>=2 in /Users/ngocp/.pyenv/versions/3.10.3/lib/python3.10/site-packages (from requests>=2.31.0->llama-index-core<0.11.0,>=0.10.1->llama-index-embeddings-openai) (3.0.1)\n",
      "Requirement already satisfied: urllib3<3,>=1.21.1 in /Users/ngocp/.pyenv/versions/3.10.3/lib/python3.10/site-packages (from requests>=2.31.0->llama-index-core<0.11.0,>=0.10.1->llama-index-embeddings-openai) (1.26.14)\n",
      "Requirement already satisfied: greenlet!=0.4.17 in /Users/ngocp/.pyenv/versions/3.10.3/lib/python3.10/site-packages (from SQLAlchemy[asyncio]>=1.4.49->llama-index-core<0.11.0,>=0.10.1->llama-index-embeddings-openai) (3.0.3)\n",
      "Requirement already satisfied: mypy-extensions>=0.3.0 in /Users/ngocp/.pyenv/versions/3.10.3/lib/python3.10/site-packages (from typing-inspect>=0.8.0->llama-index-core<0.11.0,>=0.10.1->llama-index-embeddings-openai) (1.0.0)\n",
      "Requirement already satisfied: marshmallow<4.0.0,>=3.18.0 in /Users/ngocp/.pyenv/versions/3.10.3/lib/python3.10/site-packages (from dataclasses-json->llama-index-core<0.11.0,>=0.10.1->llama-index-embeddings-openai) (3.21.3)\n",
      "Requirement already satisfied: python-dateutil>=2.8.1 in /Users/ngocp/.pyenv/versions/3.10.3/lib/python3.10/site-packages (from pandas->llama-index-core<0.11.0,>=0.10.1->llama-index-embeddings-openai) (2.8.2)\n",
      "Requirement already satisfied: pytz>=2020.1 in /Users/ngocp/.pyenv/versions/3.10.3/lib/python3.10/site-packages (from pandas->llama-index-core<0.11.0,>=0.10.1->llama-index-embeddings-openai) (2022.7.1)\n",
      "Requirement already satisfied: packaging>=17.0 in /Users/ngocp/.pyenv/versions/3.10.3/lib/python3.10/site-packages (from marshmallow<4.0.0,>=3.18.0->dataclasses-json->llama-index-core<0.11.0,>=0.10.1->llama-index-embeddings-openai) (24.1)\n",
      "Requirement already satisfied: six>=1.5 in /Users/ngocp/.pyenv/versions/3.10.3/lib/python3.10/site-packages (from python-dateutil>=2.8.1->pandas->llama-index-core<0.11.0,>=0.10.1->llama-index-embeddings-openai) (1.16.0)\n",
      "\u001b[33mWARNING: Error parsing dependencies of textract: .* suffix can only be used with `==` or `!=` operators\n",
      "    extract-msg (<=0.29.*)\n",
      "                 ~~~~~~~^\u001b[0m\u001b[33m\n",
      "\u001b[0mNote: you may need to restart the kernel to use updated packages.\n"
     ]
    }
   ],
   "source": [
    "!pip install youtube-transcript-api\n",
    "!pip install llama-index\n",
    "%pip install llama-index-embeddings-openai"
   ]
  },
  {
   "cell_type": "code",
   "execution_count": 2,
   "metadata": {},
   "outputs": [],
   "source": [
    "from youtube_transcript_api import YouTubeTranscriptApi\n",
    "from llama_index.llms.openai import OpenAI\n",
    "from llama_index.embeddings.openai import OpenAIEmbedding\n",
    "from llama_index.core import VectorStoreIndex\n",
    "from llama_index.core import Settings\n",
    "from llama_index.core import SimpleDirectoryReader\n",
    "import dotenv\n",
    "import os"
   ]
  },
  {
   "cell_type": "code",
   "execution_count": 16,
   "metadata": {},
   "outputs": [],
   "source": [
    "# Load environment variables from file\n",
    "dotenv.load_dotenv('./.env')\n",
    "apiKey = os.getenv(\"OPENAI_API_KEY\")"
   ]
  },
  {
   "cell_type": "code",
   "execution_count": 4,
   "metadata": {},
   "outputs": [],
   "source": [
    "\n",
    "GPT_MODEL = 'gpt-4o'\n",
    "embed_model = OpenAIEmbedding(model=\"text-embedding-3-small\", embed_batch_size=2)\n",
    "llm = OpenAI(model=GPT_MODEL, api_key=apiKey)\n",
    "\n",
    "Settings.llm = llm\n",
    "Settings.embed_model = embed_model"
   ]
  },
  {
   "cell_type": "code",
   "execution_count": 5,
   "metadata": {},
   "outputs": [],
   "source": [
    "video_id = 'g3CvsPAF3_0'\n",
    "transcript = YouTubeTranscriptApi.get_transcript(video_id, languages=['en'])"
   ]
  },
  {
   "cell_type": "code",
   "execution_count": 6,
   "metadata": {},
   "outputs": [
    {
     "name": "stdout",
     "output_type": "stream",
     "text": [
      "{'text': 'a good friend has recently shared that', 'start': 4.4, 'duration': 5.64}\n"
     ]
    }
   ],
   "source": [
    "print(transcript[0])"
   ]
  },
  {
   "cell_type": "code",
   "execution_count": 7,
   "metadata": {},
   "outputs": [
    {
     "name": "stdout",
     "output_type": "stream",
     "text": [
      "a good friend has recently shared that she's feeling tired like really tired not I did not get enough \n"
     ]
    }
   ],
   "source": [
    "# Combine all transcript segments into a single paragraph\n",
    "combined_text = ' '.join([entry['text'] for entry in transcript])\n",
    "print(combined_text[:102])"
   ]
  },
  {
   "cell_type": "markdown",
   "metadata": {},
   "source": [
    "Now we output transcript into local folder."
   ]
  },
  {
   "cell_type": "code",
   "execution_count": 8,
   "metadata": {},
   "outputs": [],
   "source": [
    "# define function to output transcript into text file\n",
    "def output_transcript(transcript, output_file):\n",
    "    with open(output_file, 'w') as f:\n",
    "        for entry in transcript:\n",
    "            f.write(entry['text'] + '\\n')\n",
    "\n",
    "path_dir = './data-transcript/'\n",
    "\n",
    "output_transcript(transcript, path_dir + video_id + '.txt')"
   ]
  },
  {
   "cell_type": "code",
   "execution_count": 9,
   "metadata": {},
   "outputs": [],
   "source": [
    "from copy import deepcopy\n",
    "from llama_index.core.schema import TextNode\n",
    "from llama_index.core import VectorStoreIndex\n",
    "\n",
    "\n",
    "def get_page_nodes(docs, separator=\"\\n---\\n\"):\n",
    "    \"\"\"Split each document into page node, by separator.\"\"\"\n",
    "    nodes = []\n",
    "    for doc in docs:\n",
    "        doc_chunks = doc.text.split(separator)\n",
    "        for doc_chunk in doc_chunks:\n",
    "            node = TextNode(\n",
    "                text=doc_chunk,\n",
    "                metadata=deepcopy(doc.metadata),\n",
    "            )\n",
    "            nodes.append(node)\n",
    "\n",
    "    return nodes"
   ]
  },
  {
   "cell_type": "code",
   "execution_count": 10,
   "metadata": {},
   "outputs": [],
   "source": [
    "# Load documents from the specified directory\n",
    "documents = SimpleDirectoryReader(path_dir).load_data()"
   ]
  },
  {
   "cell_type": "code",
   "execution_count": 11,
   "metadata": {},
   "outputs": [
    {
     "name": "stdout",
     "output_type": "stream",
     "text": [
      "3\n"
     ]
    }
   ],
   "source": [
    "print(len(documents))"
   ]
  },
  {
   "cell_type": "code",
   "execution_count": 12,
   "metadata": {},
   "outputs": [
    {
     "name": "stdout",
     "output_type": "stream",
     "text": [
      "Doc ID: d99a0422-4fbd-4efc-a209-40a4e498dcb3\n",
      "Text: a good friend has recently shared that she's feeling tired like\n",
      "really tired not I did not get enough sleep tired but something deeper\n",
      "than that she said she feels and I'm quoting as if I have lost my\n",
      "motivation I call her bre because she's so clearly dedicated to a job\n",
      "and conducts herself with professionalism and and kindness she's a\n",
      "wonderful...\n"
     ]
    }
   ],
   "source": [
    "print(documents[1])"
   ]
  },
  {
   "cell_type": "code",
   "execution_count": 13,
   "metadata": {},
   "outputs": [
    {
     "name": "stdout",
     "output_type": "stream",
     "text": [
      "Sự nhẫn nhịn là khả năng kiên trì, chịu đựng và không phản ứng tiêu cực trước những khó khăn, thử thách hoặc sự không hài lòng. Nó bao gồm việc giữ bình tĩnh, không nổi nóng và duy trì thái độ tích cực trong mọi tình huống.\n"
     ]
    }
   ],
   "source": [
    "index = VectorStoreIndex.from_documents(documents)\n",
    "query_engine = index.as_query_engine()"
   ]
  },
  {
   "cell_type": "code",
   "execution_count": null,
   "metadata": {},
   "outputs": [],
   "source": [
    "response = query_engine.query(\"Sự nhẫn nhịn là gì ?\")\n",
    "print(response)"
   ]
  },
  {
   "cell_type": "code",
   "execution_count": 15,
   "metadata": {},
   "outputs": [
    {
     "name": "stdout",
     "output_type": "stream",
     "text": [
      "The main idea about uncomfortable feelings is that embracing discomfort can lead to personal growth and increased daring. In a study with an improvisation class, participants who were encouraged to feel uncomfortable took the stage for longer and were more daring compared to those who were not. This suggests that seeking temporary discomfort can help individuals grow and improve their skills.\n"
     ]
    }
   ],
   "source": [
    "response = query_engine.query(\"Summarize main idea about uncomfortable feeling\")\n",
    "print(response)"
   ]
  }
 ],
 "metadata": {
  "kernelspec": {
   "display_name": "Python 3",
   "language": "python",
   "name": "python3"
  },
  "language_info": {
   "codemirror_mode": {
    "name": "ipython",
    "version": 3
   },
   "file_extension": ".py",
   "mimetype": "text/x-python",
   "name": "python",
   "nbconvert_exporter": "python",
   "pygments_lexer": "ipython3",
   "version": "3.10.3"
  }
 },
 "nbformat": 4,
 "nbformat_minor": 2
}
